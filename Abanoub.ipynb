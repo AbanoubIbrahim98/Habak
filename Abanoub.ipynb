{
  "nbformat": 4,
  "nbformat_minor": 0,
  "metadata": {
    "colab": {
      "name": "Abanoub.ipynb",
      "provenance": [],
      "authorship_tag": "ABX9TyOgVBDjYjk/qAFMrlBvG6FS",
      "include_colab_link": true
    },
    "kernelspec": {
      "name": "python3",
      "display_name": "Python 3"
    }
  },
  "cells": [
    {
      "cell_type": "markdown",
      "metadata": {
        "id": "view-in-github",
        "colab_type": "text"
      },
      "source": [
        "<a href=\"https://colab.research.google.com/github/AbanoubIbrahim98/Habak/blob/master/Abanoub.ipynb\" target=\"_parent\"><img src=\"https://colab.research.google.com/assets/colab-badge.svg\" alt=\"Open In Colab\"/></a>"
      ]
    },
    {
      "cell_type": "code",
      "metadata": {
        "id": "wlLsruKscjG8",
        "colab_type": "code",
        "colab": {
          "base_uri": "https://localhost:8080/",
          "height": 34
        },
        "outputId": "fabaa6e1-09cb-438d-f809-b8f8f69c95ca"
      },
      "source": [
        "import numpy as np\n",
        "print(\"Hello Mr.Abanoub\")"
      ],
      "execution_count": 4,
      "outputs": [
        {
          "output_type": "stream",
          "text": [
            "Hello Mr.Abanoub\n"
          ],
          "name": "stdout"
        }
      ]
    },
    {
      "cell_type": "code",
      "metadata": {
        "id": "RCy0LTBHjJSL",
        "colab_type": "code",
        "colab": {
          "base_uri": "https://localhost:8080/",
          "height": 34
        },
        "outputId": "3c944f9d-d622-4040-c49f-dd1de2c783b7"
      },
      "source": [
        "!pip install numpy\n",
        "\n"
      ],
      "execution_count": 12,
      "outputs": [
        {
          "output_type": "stream",
          "text": [
            "Requirement already satisfied: numpy in /usr/local/lib/python3.6/dist-packages (1.18.5)\n"
          ],
          "name": "stdout"
        }
      ]
    },
    {
      "cell_type": "code",
      "metadata": {
        "id": "eHnx82v1ucnO",
        "colab_type": "code",
        "colab": {
          "base_uri": "https://localhost:8080/",
          "height": 119
        },
        "outputId": "20d7abb0-66bb-4719-e5da-a809bf139dd6"
      },
      "source": [
        "x=np.my_array=([5, 9, 10, 18, 122, 14, 77])\n",
        "print(x)\n",
        "print(x[1:3])\n",
        "print(x[2:7])\n",
        "\n",
        "\n",
        "y=np.my_array=([[8, 8, 2, 11, 44, 99, 5],[8, 7, 1, 0, 22, 66, 8]])\n",
        "print(y)\n",
        "print(y[0:5])\n",
        "print(y[0:3])"
      ],
      "execution_count": 35,
      "outputs": [
        {
          "output_type": "stream",
          "text": [
            "[5, 9, 10, 18, 122, 14, 77]\n",
            "[9, 10]\n",
            "[10, 18, 122, 14, 77]\n",
            "[[8, 8, 2, 11, 44, 99, 5], [8, 7, 1, 0, 22, 66, 8]]\n",
            "[[8, 8, 2, 11, 44, 99, 5], [8, 7, 1, 0, 22, 66, 8]]\n",
            "[[8, 8, 2, 11, 44, 99, 5], [8, 7, 1, 0, 22, 66, 8]]\n"
          ],
          "name": "stdout"
        }
      ]
    },
    {
      "cell_type": "code",
      "metadata": {
        "id": "NuDaPwIX1jbS",
        "colab_type": "code",
        "colab": {
          "base_uri": "https://localhost:8080/",
          "height": 374
        },
        "outputId": "1a92b150-eba8-4728-c551-a7f910c334e4"
      },
      "source": [
        "\n",
        "import numpy as np\n",
        "Random=np.random.random((3,3))\n",
        "print(Random)\n",
        "print(Random[0:3])\n",
        "\n",
        "\n",
        "\n",
        "import numpy as np\n",
        "Zero= np.zeros([3,3])\n",
        "print(Zero)\n",
        "\n",
        "print(\"Yes\")\n",
        "import numpy as np \n",
        "Pop=np.ones([4,4])\n",
        "print(Pop)\n",
        "\n",
        "import numpy as np\n",
        "Abanoub = np. full((5,5),8)\n",
        "print(Abanoub)\n",
        "\n",
        "import numpy as np\n",
        "ident=np.eye(2,2)\n",
        "print(ident)\n",
        "\n",
        "\n",
        "\n",
        "\n"
      ],
      "execution_count": 56,
      "outputs": [
        {
          "output_type": "stream",
          "text": [
            "[[0.68775384 0.05141151 0.88126503]\n",
            " [0.5591212  0.48116441 0.61807073]\n",
            " [0.15719942 0.89269504 0.77726943]]\n",
            "[[0.68775384 0.05141151 0.88126503]\n",
            " [0.5591212  0.48116441 0.61807073]\n",
            " [0.15719942 0.89269504 0.77726943]]\n",
            "[[0. 0. 0.]\n",
            " [0. 0. 0.]\n",
            " [0. 0. 0.]]\n",
            "Yes\n",
            "[[1. 1. 1. 1.]\n",
            " [1. 1. 1. 1.]\n",
            " [1. 1. 1. 1.]\n",
            " [1. 1. 1. 1.]]\n",
            "[[8 8 8 8 8]\n",
            " [8 8 8 8 8]\n",
            " [8 8 8 8 8]\n",
            " [8 8 8 8 8]\n",
            " [8 8 8 8 8]]\n",
            "[[1. 0.]\n",
            " [0. 1.]]\n"
          ],
          "name": "stdout"
        }
      ]
    },
    {
      "cell_type": "code",
      "metadata": {
        "id": "RyaW7vffcxLr",
        "colab_type": "code",
        "colab": {
          "base_uri": "https://localhost:8080/",
          "height": 221
        },
        "outputId": "37ebc886-e895-4249-a219-a092d7b77e8c"
      },
      "source": [
        "import numpy as np\n",
        "x=np.array=([[5, 10, 10, 20, 25, 30],[25, 45, 60, 55, 80, 99]])\n",
        "y=np.array=([[2, 3, 8, 9, 5, 7],[8, 4, 2, 1, 3, 6]])\n",
        "print(x)\n",
        "print(y)\n",
        "print(np.add(x,y))\n",
        "print(np.subtract(x,y))\n",
        "print(np.divide(y,x))\n",
        "print(np.multiply(x,y))\n",
        "print(np.sqrt((x)))\n",
        "\n",
        "\n",
        "\n",
        "\n",
        "\n",
        "\n",
        "\n"
      ],
      "execution_count": 24,
      "outputs": [
        {
          "output_type": "stream",
          "text": [
            "[[5, 10, 10, 20, 25, 30], [25, 45, 60, 55, 80, 99]]\n",
            "[[2, 3, 8, 9, 5, 7], [8, 4, 2, 1, 3, 6]]\n",
            "[[  7  13  18  29  30  37]\n",
            " [ 33  49  62  56  83 105]]\n",
            "[[ 3  7  2 11 20 23]\n",
            " [17 41 58 54 77 93]]\n",
            "[[0.4        0.3        0.8        0.45       0.2        0.23333333]\n",
            " [0.32       0.08888889 0.03333333 0.01818182 0.0375     0.06060606]]\n",
            "[[2.23606798 3.16227766 3.16227766 4.47213595 5.         5.47722558]\n",
            " [5.         6.70820393 7.74596669 7.41619849 8.94427191 9.94987437]]\n",
            "[[ 10  30  80 180 125 210]\n",
            " [200 180 120  55 240 594]]\n"
          ],
          "name": "stdout"
        }
      ]
    },
    {
      "cell_type": "code",
      "metadata": {
        "id": "U-KuJ8P6iXQP",
        "colab_type": "code",
        "colab": {
          "base_uri": "https://localhost:8080/",
          "height": 170
        },
        "outputId": "50c05e62-5662-42ea-b10f-d82c8afd35d5"
      },
      "source": [
        "print(x)\n",
        "x_new=np.sqrt(x)\n",
        "y_new=np.divide(x,y)\n",
        "print(x_new)\n",
        "print(y_new)\n",
        "\n",
        "z=np.multiply(x_new,y_new)\n",
        "print(z)"
      ],
      "execution_count": 28,
      "outputs": [
        {
          "output_type": "stream",
          "text": [
            "[[5, 10, 10, 20, 25, 30], [25, 45, 60, 55, 80, 99]]\n",
            "[[2.23606798 3.16227766 3.16227766 4.47213595 5.         5.47722558]\n",
            " [5.         6.70820393 7.74596669 7.41619849 8.94427191 9.94987437]]\n",
            "[[ 2.5         3.33333333  1.25        2.22222222  5.          4.28571429]\n",
            " [ 3.125      11.25       30.         55.         26.66666667 16.5       ]]\n",
            "[[  5.59016994  10.54092553   3.95284708   9.9380799   25.\n",
            "   23.47382389]\n",
            " [ 15.625       75.46729424 232.37900077 407.89091679 238.5139176\n",
            "  164.17292712]]\n"
          ],
          "name": "stdout"
        }
      ]
    },
    {
      "cell_type": "code",
      "metadata": {
        "id": "SNth2jxbjNZf",
        "colab_type": "code",
        "colab": {}
      },
      "source": [
        "import numpy as np\n",
        "#Define an array of np's\n",
        "My_Array= np.array=([10, 5, 9, 7])\n",
        "print(My_Array)\n",
        "print(type(My_Array))\n",
        "print(My_Array.count)\n",
        "print(My_Array[0])\n",
        "My_Array[2]=80\n",
        "print(My_Array[2])\n",
        "print(My_Array[3])\n"
      ],
      "execution_count": null,
      "outputs": []
    },
    {
      "cell_type": "code",
      "metadata": {
        "id": "8K94vU-bl2Iu",
        "colab_type": "code",
        "colab": {
          "base_uri": "https://localhost:8080/",
          "height": 34
        },
        "outputId": "93815f44-b810-4ffc-94e3-f123d1d6e95c"
      },
      "source": [
        "import numpy as np\n",
        "arr=np.array=([[5,6],[2, 4]])\n",
        "v=np.array=([[5, 2],[3, 5, 9]])\n",
        "print(v)\n"
      ],
      "execution_count": 43,
      "outputs": [
        {
          "output_type": "stream",
          "text": [
            "[[5, 2], [3, 5, 9]]\n"
          ],
          "name": "stdout"
        }
      ]
    }
  ]
}